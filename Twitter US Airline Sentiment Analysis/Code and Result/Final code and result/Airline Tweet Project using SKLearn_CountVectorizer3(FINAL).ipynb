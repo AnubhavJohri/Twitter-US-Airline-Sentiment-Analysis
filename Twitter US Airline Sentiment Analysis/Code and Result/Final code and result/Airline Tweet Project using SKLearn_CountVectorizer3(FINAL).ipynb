{
 "cells": [
  {
   "cell_type": "code",
   "execution_count": 2,
   "metadata": {
    "colab": {
     "base_uri": "https://localhost:8080/",
     "height": 136
    },
    "colab_type": "code",
    "id": "koObs_nes62R",
    "outputId": "5981edb1-bd4d-4322-8f9f-dec3167bf17a"
   },
   "outputs": [
    {
     "name": "stdout",
     "output_type": "stream",
     "text": [
      "[nltk_data] Downloading package stopwords to /content/nltk_data...\n",
      "[nltk_data]   Package stopwords is already up-to-date!\n",
      "[nltk_data] Downloading package wordnet to /content/nltk_data...\n",
      "[nltk_data]   Package wordnet is already up-to-date!\n",
      "[nltk_data] Downloading package punkt to /content/nltk_data...\n",
      "[nltk_data]   Package punkt is already up-to-date!\n"
     ]
    },
    {
     "data": {
      "text/plain": [
       "True"
      ]
     },
     "execution_count": 2,
     "metadata": {
      "tags": []
     },
     "output_type": "execute_result"
    }
   ],
   "source": [
    "from nltk.corpus import movie_reviews\n",
    "import pandas as pd\n",
    "import nltk\n",
    "import numpy as np\n",
    "from nltk import word_tokenize \n",
    "import io\n",
    "import os\n",
    "import re\n",
    "\n",
    "nltk.download('stopwords')\n",
    "nltk.download('wordnet')\n",
    "nltk.download('punkt')\n"
   ]
  },
  {
   "cell_type": "code",
   "execution_count": 0,
   "metadata": {
    "colab": {},
    "colab_type": "code",
    "id": "S8MO-Xczs62f"
   },
   "outputs": [],
   "source": [
    "from google.colab import files"
   ]
  },
  {
   "cell_type": "code",
   "execution_count": 4,
   "metadata": {
    "colab": {
     "base_uri": "https://localhost:8080/",
     "height": 54
    },
    "colab_type": "code",
    "id": "z-iIPECYs62l",
    "outputId": "6d4f8066-2809-4ec0-89bb-ef6f69b27a78"
   },
   "outputs": [
    {
     "name": "stdout",
     "output_type": "stream",
     "text": [
      "['datalab', 'mnb(nlp2).csv', 'training_data.csv', '.forever', '.cache', '.config', '.ipython', '.local', 'svc.csv', 'svc(nlp2).csv', 'randomforest.csv', 'nltk_data', 'test_data.csv']\n"
     ]
    }
   ],
   "source": [
    "#os.chdir(\"C:\\\\Users\\\\hp\\\\Coding Ninjas\\\\Lectures\\\\Lect 16(NLP)\\\\Projects\\\\Twitter US Airline Sentiment Analysis\\\\Dataset\")\n",
    "print(os.listdir())\n",
    "#train=files.upload()\n",
    "#test=files.upload()"
   ]
  },
  {
   "cell_type": "code",
   "execution_count": 5,
   "metadata": {
    "colab": {
     "base_uri": "https://localhost:8080/",
     "height": 34
    },
    "colab_type": "code",
    "id": "z9b0l68ls62q",
    "outputId": "2d502f61-3790-4f75-d505-8e6b108c3d36"
   },
   "outputs": [
    {
     "data": {
      "text/plain": [
       "'@SouthwestAir I am scheduled for the morning, 2 days after the fact, yes..not sure why my evening flight was the only one Cancelled Flightled'"
      ]
     },
     "execution_count": 5,
     "metadata": {
      "tags": []
     },
     "output_type": "execute_result"
    }
   ],
   "source": [
    "training_data=pd.read_csv('training_data.csv')\n",
    "training_data[\"text\"][0]"
   ]
  },
  {
   "cell_type": "code",
   "execution_count": 6,
   "metadata": {
    "colab": {
     "base_uri": "https://localhost:8080/",
     "height": 34
    },
    "colab_type": "code",
    "id": "7sCHDSdIs62x",
    "outputId": "b3c1c3c0-2227-4082-97c3-f795d6a9a093"
   },
   "outputs": [
    {
     "data": {
      "text/plain": [
       "\"@AmericanAir In car gng to DFW. Pulled over 1hr ago - very icy roads. On-hold with AA since 1hr. Can't reach arpt for AA2450. Wat 2 do?\""
      ]
     },
     "execution_count": 6,
     "metadata": {
      "tags": []
     },
     "output_type": "execute_result"
    }
   ],
   "source": [
    "testing_data=pd.read_csv(\"test_data.csv\")\n",
    "testing_data[\"text\"][0]"
   ]
  },
  {
   "cell_type": "code",
   "execution_count": 7,
   "metadata": {
    "colab": {
     "base_uri": "https://localhost:8080/",
     "height": 34
    },
    "colab_type": "code",
    "id": "cTv_dYNzs624",
    "outputId": "e996bdef-7e32-4790-aace-9e0ee0caedb8"
   },
   "outputs": [
    {
     "data": {
      "text/plain": [
       "pandas.core.series.Series"
      ]
     },
     "execution_count": 7,
     "metadata": {
      "tags": []
     },
     "output_type": "execute_result"
    }
   ],
   "source": [
    "x=training_data[\"text\"]\n",
    "type(x)"
   ]
  },
  {
   "cell_type": "code",
   "execution_count": 8,
   "metadata": {
    "colab": {
     "base_uri": "https://localhost:8080/",
     "height": 34
    },
    "colab_type": "code",
    "id": "-BXmFHKrs62-",
    "outputId": "5dd81a89-9106-4b3f-d463-97ccb0fd56b7"
   },
   "outputs": [
    {
     "data": {
      "text/plain": [
       "(3660, 1)"
      ]
     },
     "execution_count": 8,
     "metadata": {
      "tags": []
     },
     "output_type": "execute_result"
    }
   ],
   "source": [
    "xtest=testing_data[\"text\"]\n",
    "xtest=np.array(xtest)\n",
    "xtest=xtest.reshape(len(xtest),1)\n",
    "xtest.shape"
   ]
  },
  {
   "cell_type": "code",
   "execution_count": 9,
   "metadata": {
    "colab": {
     "base_uri": "https://localhost:8080/",
     "height": 34
    },
    "colab_type": "code",
    "id": "SfTqkTOZs63E",
    "outputId": "afd92d1c-5959-48d6-b15f-7d213b8f0547"
   },
   "outputs": [
    {
     "data": {
      "text/plain": [
       "((10980, 1), (10980, 1))"
      ]
     },
     "execution_count": 9,
     "metadata": {
      "tags": []
     },
     "output_type": "execute_result"
    }
   ],
   "source": [
    "y=training_data['airline_sentiment']\n",
    "x=np.array(x)\n",
    "y=np.array(y)\n",
    "x=x.reshape(len(x),1)\n",
    "y=y.reshape(len(y),1)\n",
    "x.shape,y.shape"
   ]
  },
  {
   "cell_type": "code",
   "execution_count": 10,
   "metadata": {
    "colab": {
     "base_uri": "https://localhost:8080/",
     "height": 34
    },
    "colab_type": "code",
    "id": "_1I-NrsSs63K",
    "outputId": "77edcb51-d2ed-49f0-8f94-6821f1b48f16"
   },
   "outputs": [
    {
     "data": {
      "text/plain": [
       "(10980, 2)"
      ]
     },
     "execution_count": 10,
     "metadata": {
      "tags": []
     },
     "output_type": "execute_result"
    }
   ],
   "source": [
    "train=np.append(x,y,axis=1)\n",
    "train.shape"
   ]
  },
  {
   "cell_type": "code",
   "execution_count": 11,
   "metadata": {
    "colab": {
     "base_uri": "https://localhost:8080/",
     "height": 34
    },
    "colab_type": "code",
    "id": "W9hi1Wxfs63Q",
    "outputId": "40915f93-d2d1-40df-d3fc-7410142cb772"
   },
   "outputs": [
    {
     "data": {
      "text/plain": [
       "(3660, 1)"
      ]
     },
     "execution_count": 11,
     "metadata": {
      "tags": []
     },
     "output_type": "execute_result"
    }
   ],
   "source": [
    "test=xtest\n",
    "test.shape"
   ]
  },
  {
   "cell_type": "code",
   "execution_count": 12,
   "metadata": {
    "colab": {
     "base_uri": "https://localhost:8080/",
     "height": 510
    },
    "colab_type": "code",
    "id": "004JcVfDs63X",
    "outputId": "cbea0698-f848-422c-9027-bd9d5e16154e"
   },
   "outputs": [
    {
     "name": "stdout",
     "output_type": "stream",
     "text": [
      "The End\n"
     ]
    },
    {
     "data": {
      "text/plain": [
       "[(['@',\n",
       "   'SouthwestAir',\n",
       "   'I',\n",
       "   'am',\n",
       "   'scheduled',\n",
       "   'for',\n",
       "   'the',\n",
       "   'morning',\n",
       "   ',',\n",
       "   '2',\n",
       "   'days',\n",
       "   'after',\n",
       "   'the',\n",
       "   'fact',\n",
       "   ',',\n",
       "   'yes..not',\n",
       "   'sure',\n",
       "   'why',\n",
       "   'my',\n",
       "   'evening',\n",
       "   'flight',\n",
       "   'was',\n",
       "   'the',\n",
       "   'only',\n",
       "   'one',\n",
       "   'Cancelled',\n",
       "   'Flightled'],\n",
       "  'negative')]"
      ]
     },
     "execution_count": 12,
     "metadata": {
      "tags": []
     },
     "output_type": "execute_result"
    }
   ],
   "source": [
    "documents = []\n",
    "c=0\n",
    "for text,category in train:\n",
    "    c+=1\n",
    "    documents.append((word_tokenize(text), category))\n",
    "print(\"The End\")\n",
    "documents[0:1]"
   ]
  },
  {
   "cell_type": "code",
   "execution_count": 13,
   "metadata": {
    "colab": {
     "base_uri": "https://localhost:8080/",
     "height": 1139
    },
    "colab_type": "code",
    "id": "7g2taOiVs63m",
    "outputId": "7b15309b-8e98-42e8-a5ff-1befb1b408e9"
   },
   "outputs": [
    {
     "name": "stdout",
     "output_type": "stream",
     "text": [
      "The End\n"
     ]
    },
    {
     "data": {
      "text/plain": [
       "[['[',\n",
       "  '``',\n",
       "  '@',\n",
       "  'AmericanAir',\n",
       "  'In',\n",
       "  'car',\n",
       "  'gng',\n",
       "  'to',\n",
       "  'DFW',\n",
       "  '.',\n",
       "  'Pulled',\n",
       "  'over',\n",
       "  '1hr',\n",
       "  'ago',\n",
       "  '-',\n",
       "  'very',\n",
       "  'icy',\n",
       "  'roads',\n",
       "  '.',\n",
       "  'On-hold',\n",
       "  'with',\n",
       "  'AA',\n",
       "  'since',\n",
       "  '1hr',\n",
       "  '.',\n",
       "  'Ca',\n",
       "  \"n't\",\n",
       "  'reach',\n",
       "  'arpt',\n",
       "  'for',\n",
       "  'AA2450',\n",
       "  '.',\n",
       "  'Wat',\n",
       "  '2',\n",
       "  'do',\n",
       "  '?',\n",
       "  \"''\",\n",
       "  ']'],\n",
       " ['[',\n",
       "  \"'\",\n",
       "  '@',\n",
       "  'AmericanAir',\n",
       "  'after',\n",
       "  'all',\n",
       "  ',',\n",
       "  'the',\n",
       "  'plane',\n",
       "  'didn',\n",
       "  '’',\n",
       "  't',\n",
       "  'land',\n",
       "  'in',\n",
       "  'identical',\n",
       "  'or',\n",
       "  'worse',\n",
       "  ')',\n",
       "  'conditions',\n",
       "  'at',\n",
       "  'GRK',\n",
       "  'according',\n",
       "  'to',\n",
       "  'METARs',\n",
       "  '.',\n",
       "  \"'\",\n",
       "  ']']]"
      ]
     },
     "execution_count": 13,
     "metadata": {
      "tags": []
     },
     "output_type": "execute_result"
    }
   ],
   "source": [
    "test_documents = []\n",
    "c=0\n",
    "for text in test:\n",
    "    c+=1\n",
    "    test_documents.append(word_tokenize(str(text)))\n",
    "print(\"The End\")\n",
    "test_documents[0:2]"
   ]
  },
  {
   "cell_type": "code",
   "execution_count": 0,
   "metadata": {
    "colab": {},
    "colab_type": "code",
    "id": "jRkFmopjs63s"
   },
   "outputs": [],
   "source": []
  },
  {
   "cell_type": "code",
   "execution_count": 14,
   "metadata": {
    "colab": {
     "base_uri": "https://localhost:8080/",
     "height": 867
    },
    "colab_type": "code",
    "id": "LTlLEQJSs63x",
    "outputId": "c8562d0e-de4e-4e3e-83f0-24edb4ccfc5e"
   },
   "outputs": [
    {
     "data": {
      "text/plain": [
       "[(['“',\n",
       "   '@',\n",
       "   'JetBlue',\n",
       "   ':',\n",
       "   'Our',\n",
       "   'fleet',\n",
       "   \"'s\",\n",
       "   'on',\n",
       "   'fleek',\n",
       "   '.',\n",
       "   'http',\n",
       "   ':',\n",
       "   '//t.co/Vxn2J36M7V',\n",
       "   '”',\n",
       "   'this',\n",
       "   'happened'],\n",
       "  'neutral'),\n",
       " (['@',\n",
       "   'united',\n",
       "   'There',\n",
       "   'is',\n",
       "   'no',\n",
       "   'excuse',\n",
       "   'for',\n",
       "   'leaving',\n",
       "   'a',\n",
       "   'minor',\n",
       "   'to',\n",
       "   'spend',\n",
       "   'the',\n",
       "   'night',\n",
       "   'sobbing',\n",
       "   '(',\n",
       "   '9',\n",
       "   'hours',\n",
       "   ')',\n",
       "   'in',\n",
       "   'a',\n",
       "   'plastic',\n",
       "   'chair',\n",
       "   '.',\n",
       "   'UA',\n",
       "   \"'s\",\n",
       "   'actions',\n",
       "   '?',\n",
       "   'Terrible',\n",
       "   '.',\n",
       "   '#',\n",
       "   'united'],\n",
       "  'negative')]"
      ]
     },
     "execution_count": 14,
     "metadata": {
      "tags": []
     },
     "output_type": "execute_result"
    }
   ],
   "source": [
    "import random\n",
    "random.shuffle(documents)\n",
    "documents[0:2]"
   ]
  },
  {
   "cell_type": "code",
   "execution_count": 0,
   "metadata": {
    "colab": {},
    "colab_type": "code",
    "id": "p8xBQ8zYs633"
   },
   "outputs": [],
   "source": [
    "from nltk.stem import WordNetLemmatizer\n",
    "lemmatizer = WordNetLemmatizer()"
   ]
  },
  {
   "cell_type": "code",
   "execution_count": 0,
   "metadata": {
    "colab": {},
    "colab_type": "code",
    "id": "78fkfWK6s638"
   },
   "outputs": [],
   "source": [
    "from nltk.corpus import wordnet\n",
    "def get_simple_pos(tag):\n",
    "    \n",
    "    if tag.startswith('J'):\n",
    "        return wordnet.ADJ\n",
    "    elif tag.startswith('V'):\n",
    "        return wordnet.VERB\n",
    "    elif tag.startswith('N'):\n",
    "        return wordnet.NOUN\n",
    "    elif tag.startswith('R'):\n",
    "        return wordnet.ADV\n",
    "    else:\n",
    "        return wordnet.NOUN"
   ]
  },
  {
   "cell_type": "code",
   "execution_count": 17,
   "metadata": {
    "colab": {
     "base_uri": "https://localhost:8080/",
     "height": 34
    },
    "colab_type": "code",
    "id": "vlB-cQV0s64A",
    "outputId": "8ea30312-bfe4-4e54-dc07-9a04027c40c8"
   },
   "outputs": [
    {
     "data": {
      "text/plain": [
       "[('better', 'RBR')]"
      ]
     },
     "execution_count": 17,
     "metadata": {
      "tags": []
     },
     "output_type": "execute_result"
    }
   ],
   "source": [
    "from nltk import pos_tag\n",
    "w = \"better\"\n",
    "pos_tag([w])"
   ]
  },
  {
   "cell_type": "code",
   "execution_count": 0,
   "metadata": {
    "colab": {},
    "colab_type": "code",
    "id": "nWjYEwkzs64G"
   },
   "outputs": [],
   "source": [
    "from nltk.corpus import stopwords\n",
    "import string\n",
    "stops = set(stopwords.words('english'))\n",
    "punctuations = list(string.punctuation)\n",
    "stops.update(punctuations)\n",
    "#stops, string.punctuation"
   ]
  },
  {
   "cell_type": "code",
   "execution_count": 0,
   "metadata": {
    "colab": {},
    "colab_type": "code",
    "id": "O-nHdwFqs64J"
   },
   "outputs": [],
   "source": [
    "def clean_review(words):\n",
    "    output_words = []\n",
    "    #regex = re.compile('[a-zA-Z0-9_-]+$')\n",
    "    regex = re.compile('[a-zA-Z_-]+$')\n",
    "    for w in words:\n",
    "        if w.lower() not in stops and len(w)>2 and not w.isnumeric() and re.match(regex,w):\n",
    "            pos = pos_tag([w])\n",
    "            clean_word = lemmatizer.lemmatize(w, pos = get_simple_pos(pos[0][1]))\n",
    "            output_words.append(clean_word.lower())\n",
    "    return output_words"
   ]
  },
  {
   "cell_type": "code",
   "execution_count": 0,
   "metadata": {
    "colab": {},
    "colab_type": "code",
    "id": "NNH4aknPs64N"
   },
   "outputs": [],
   "source": [
    "documents = [(clean_review(document), category) for document, category in documents]"
   ]
  },
  {
   "cell_type": "code",
   "execution_count": 0,
   "metadata": {
    "colab": {},
    "colab_type": "code",
    "id": "Fd6SFPtvs64Q"
   },
   "outputs": [],
   "source": [
    "test_documents = [clean_review(document) for document in test_documents]"
   ]
  },
  {
   "cell_type": "code",
   "execution_count": 0,
   "metadata": {
    "colab": {},
    "colab_type": "code",
    "id": "xvP00Zcws64U"
   },
   "outputs": [],
   "source": [
    "training_documents = documents\n",
    "testing_documents = test_documents"
   ]
  },
  {
   "cell_type": "code",
   "execution_count": 0,
   "metadata": {
    "colab": {},
    "colab_type": "code",
    "id": "DBCSwqzts64Z"
   },
   "outputs": [],
   "source": [
    "from sklearn.feature_extraction.text import CountVectorizer"
   ]
  },
  {
   "cell_type": "code",
   "execution_count": 0,
   "metadata": {
    "colab": {},
    "colab_type": "code",
    "id": "-PRxH9p6s64t"
   },
   "outputs": [],
   "source": [
    "categories = [category for document, category in training_documents]"
   ]
  },
  {
   "cell_type": "code",
   "execution_count": 0,
   "metadata": {
    "colab": {},
    "colab_type": "code",
    "id": "I6HT-BRhs641"
   },
   "outputs": [],
   "source": [
    "#Joining All features in each tuple for Train Data\n",
    "\n",
    "text_documents = [\" \".join(document) for document, category in training_documents]"
   ]
  },
  {
   "cell_type": "code",
   "execution_count": 0,
   "metadata": {
    "colab": {},
    "colab_type": "code",
    "id": "1366oEfLs649"
   },
   "outputs": [],
   "source": [
    "#Joining All features in each tuple for Test Data\n",
    "\n",
    "test_text_documents = [\" \".join(document) for document in testing_documents]"
   ]
  },
  {
   "cell_type": "code",
   "execution_count": 0,
   "metadata": {
    "colab": {},
    "colab_type": "code",
    "id": "eG_WmObws65B"
   },
   "outputs": [],
   "source": [
    "from sklearn.model_selection import train_test_split"
   ]
  },
  {
   "cell_type": "code",
   "execution_count": 0,
   "metadata": {
    "colab": {},
    "colab_type": "code",
    "id": "1yGkXxGms65G"
   },
   "outputs": [],
   "source": [
    "#x_train, x_test, y_train, y_test = train_test_split(text_documents, categories)"
   ]
  },
  {
   "cell_type": "code",
   "execution_count": 29,
   "metadata": {
    "colab": {
     "base_uri": "https://localhost:8080/",
     "height": 136
    },
    "colab_type": "code",
    "id": "UQY9M8cPs65K",
    "outputId": "64204852-fae0-41c3-85e8-c2e7c95c8db6"
   },
   "outputs": [
    {
     "data": {
      "text/plain": [
       "matrix([[0, 0, 0, ..., 0, 0, 0],\n",
       "        [0, 0, 0, ..., 0, 0, 0],\n",
       "        [0, 0, 0, ..., 0, 0, 0],\n",
       "        ...,\n",
       "        [0, 0, 0, ..., 0, 0, 0],\n",
       "        [0, 0, 0, ..., 0, 0, 0],\n",
       "        [0, 0, 0, ..., 0, 0, 0]], dtype=int64)"
      ]
     },
     "execution_count": 29,
     "metadata": {
      "tags": []
     },
     "output_type": "execute_result"
    }
   ],
   "source": [
    "#count_vec = CountVectorizer(max_features = 2000, ngram_range=(1,2))\n",
    "count_vec = CountVectorizer(max_features = 7000)\n",
    "x_train_features = count_vec.fit_transform(text_documents)\n",
    "x_train_features.todense()"
   ]
  },
  {
   "cell_type": "code",
   "execution_count": 30,
   "metadata": {
    "colab": {
     "base_uri": "https://localhost:8080/",
     "height": 34
    },
    "colab_type": "code",
    "id": "UtginIMCs65P",
    "outputId": "8a8e13e7-4619-4946-a854-367239b364ee"
   },
   "outputs": [
    {
     "data": {
      "text/plain": [
       "(10980, 7000)"
      ]
     },
     "execution_count": 30,
     "metadata": {
      "tags": []
     },
     "output_type": "execute_result"
    }
   ],
   "source": [
    "x_train_features.shape"
   ]
  },
  {
   "cell_type": "code",
   "execution_count": 31,
   "metadata": {
    "colab": {
     "base_uri": "https://localhost:8080/",
     "height": 34
    },
    "colab_type": "code",
    "id": "h64WG9_5we68",
    "outputId": "5164e3cb-6a66-4946-9db1-89a0b758bcf8"
   },
   "outputs": [
    {
     "data": {
      "text/plain": [
       "<_sre.SRE_Match object; span=(0, 7), match='anubhav'>"
      ]
     },
     "execution_count": 31,
     "metadata": {
      "tags": []
     },
     "output_type": "execute_result"
    }
   ],
   "source": [
    "regex = re.compile('[a-zA-Z_-]+$')\n",
    "re.match(regex,'anubhav')"
   ]
  },
  {
   "cell_type": "code",
   "execution_count": 32,
   "metadata": {
    "colab": {
     "base_uri": "https://localhost:8080/",
     "height": 17034
    },
    "colab_type": "code",
    "id": "3lFm9zFFs65W",
    "outputId": "2ab10089-264e-4c85-d0ab-53babc567455"
   },
   "outputs": [
    {
     "data": {
      "text/plain": [
       "['_austrian',\n",
       " '_defcon_',\n",
       " '_emmaclifford',\n",
       " '_exact_',\n",
       " '_justdippin_',\n",
       " 'a_life_story_',\n",
       " 'aa',\n",
       " 'aaaand',\n",
       " 'aadvantage',\n",
       " 'aafail',\n",
       " 'aal',\n",
       " 'aaron',\n",
       " 'aarp',\n",
       " 'abandon',\n",
       " 'abandonment',\n",
       " 'abassinet',\n",
       " 'abbreve',\n",
       " 'abc',\n",
       " 'abcnetwork',\n",
       " 'abcnews',\n",
       " 'abduct',\n",
       " 'abi',\n",
       " 'abigailedge',\n",
       " 'ability',\n",
       " 'able',\n",
       " 'aboard',\n",
       " 'aboout',\n",
       " 'abounds',\n",
       " 'abq',\n",
       " 'abroad',\n",
       " 'absolute',\n",
       " 'absolutely',\n",
       " 'absorber',\n",
       " 'absoulutely',\n",
       " 'absurd',\n",
       " 'absurdity',\n",
       " 'absurdly',\n",
       " 'abt',\n",
       " 'abundance',\n",
       " 'abuse',\n",
       " 'abysmal',\n",
       " 'acc',\n",
       " 'accelerate',\n",
       " 'accept',\n",
       " 'acceptable',\n",
       " 'accepted',\n",
       " 'acces',\n",
       " 'access',\n",
       " 'accessibility',\n",
       " 'accessible',\n",
       " 'accident',\n",
       " 'accidentally',\n",
       " 'accidents',\n",
       " 'accomidating',\n",
       " 'accommodate',\n",
       " 'accommodation',\n",
       " 'accompaniment',\n",
       " 'accompany',\n",
       " 'accomplish',\n",
       " 'accord',\n",
       " 'according',\n",
       " 'accordingly',\n",
       " 'account',\n",
       " 'accountability',\n",
       " 'accrue',\n",
       " 'acct',\n",
       " 'accts',\n",
       " 'accumulation',\n",
       " 'accurate',\n",
       " 'accurately',\n",
       " 'accuratetraveltimes',\n",
       " 'accuse',\n",
       " 'achieve',\n",
       " 'ack',\n",
       " 'acknowledge',\n",
       " 'acknowledgement',\n",
       " 'acknowledgment',\n",
       " 'acnewsguy',\n",
       " 'acosta',\n",
       " 'acoustic',\n",
       " 'acpt',\n",
       " 'acquire',\n",
       " 'across',\n",
       " 'act',\n",
       " 'actingoutmgmnt',\n",
       " 'action',\n",
       " 'actions',\n",
       " 'activate',\n",
       " 'active',\n",
       " 'active_aly',\n",
       " 'actively',\n",
       " 'activity',\n",
       " 'actual',\n",
       " 'actually',\n",
       " 'actualy',\n",
       " 'acu',\n",
       " 'acy',\n",
       " 'ad',\n",
       " 'ada',\n",
       " 'adam',\n",
       " 'adam_karren',\n",
       " 'adapt',\n",
       " 'add',\n",
       " 'addair',\n",
       " 'adding',\n",
       " 'addition',\n",
       " 'additional',\n",
       " 'additionally',\n",
       " 'additonal',\n",
       " 'addr',\n",
       " 'address',\n",
       " 'adds',\n",
       " 'addtl',\n",
       " 'adjacent',\n",
       " 'adjustment',\n",
       " 'admin',\n",
       " 'admiral',\n",
       " 'admirals',\n",
       " 'admiralsclub',\n",
       " 'admit',\n",
       " 'adolfo',\n",
       " 'adopt',\n",
       " 'adopting',\n",
       " 'adore',\n",
       " 'adult',\n",
       " 'adv',\n",
       " 'advan',\n",
       " 'advance',\n",
       " 'advantage',\n",
       " 'adventure',\n",
       " 'advertise',\n",
       " 'advertising',\n",
       " 'advice',\n",
       " 'advis',\n",
       " 'advise',\n",
       " 'advisory',\n",
       " 'advsry',\n",
       " 'aerocivilcol',\n",
       " 'aerojobmarket',\n",
       " 'aeroport',\n",
       " 'aex',\n",
       " 'affect',\n",
       " 'affected',\n",
       " 'affiliate',\n",
       " 'afford',\n",
       " 'affordable',\n",
       " 'afiliates',\n",
       " 'aflame',\n",
       " 'afraid',\n",
       " 'african',\n",
       " 'aft',\n",
       " 'afterall',\n",
       " 'afternoon',\n",
       " 'aftr',\n",
       " 'again',\n",
       " 'age',\n",
       " 'agency',\n",
       " 'agent',\n",
       " 'agents',\n",
       " 'aggiemensgolf',\n",
       " 'aggravate',\n",
       " 'aggravation',\n",
       " 'aggressive',\n",
       " 'agnt',\n",
       " 'ago',\n",
       " 'agree',\n",
       " 'agreement',\n",
       " 'agt',\n",
       " 'agts',\n",
       " 'aha',\n",
       " 'ahead',\n",
       " 'ahhhh',\n",
       " 'ahold',\n",
       " 'ahoy',\n",
       " 'ail',\n",
       " 'aim',\n",
       " 'air',\n",
       " 'airborne',\n",
       " 'airbus',\n",
       " 'airbusintheus',\n",
       " 'aircanada',\n",
       " 'aircargo',\n",
       " 'aircraft',\n",
       " 'aires',\n",
       " 'airfare',\n",
       " 'airfarewatchdog',\n",
       " 'airline',\n",
       " 'airlinegeeks',\n",
       " 'airlineguys',\n",
       " 'airlinequality',\n",
       " 'airliner',\n",
       " 'airlines',\n",
       " 'airlinesecurity',\n",
       " 'airnzusa',\n",
       " 'airplane',\n",
       " 'airport',\n",
       " 'airportcardio',\n",
       " 'airpt',\n",
       " 'airside',\n",
       " 'airstairs',\n",
       " 'airway',\n",
       " 'airways',\n",
       " 'ais',\n",
       " 'aisle',\n",
       " 'aka',\n",
       " 'ala',\n",
       " 'alabama',\n",
       " 'alamo',\n",
       " 'alan_bledsoe',\n",
       " 'alarm',\n",
       " 'alaska',\n",
       " 'alaskaair',\n",
       " 'alavera',\n",
       " 'alb',\n",
       " 'albany',\n",
       " 'albanyairport',\n",
       " 'albeit',\n",
       " 'albertbreer',\n",
       " 'album',\n",
       " 'albuquer',\n",
       " 'albuquerque',\n",
       " 'alcohol',\n",
       " 'alert',\n",
       " 'alex',\n",
       " 'alfamilyoffour',\n",
       " 'ali',\n",
       " 'alicia',\n",
       " 'align',\n",
       " 'alison',\n",
       " 'alist',\n",
       " 'alittlebetter',\n",
       " 'alive',\n",
       " 'all',\n",
       " 'allan',\n",
       " 'allegiantair',\n",
       " 'allegianttravel',\n",
       " 'allende',\n",
       " 'allergic',\n",
       " 'allergy',\n",
       " 'alleviate',\n",
       " 'allgood',\n",
       " 'alliance',\n",
       " 'allow',\n",
       " 'allowabl',\n",
       " 'allowable',\n",
       " 'allowance',\n",
       " 'allowing',\n",
       " 'allows',\n",
       " 'allready',\n",
       " 'allyoucanjetpass',\n",
       " 'almost',\n",
       " 'alone',\n",
       " 'along',\n",
       " 'alot',\n",
       " 'already',\n",
       " 'alreadyrebookedonce',\n",
       " 'alright',\n",
       " 'als',\n",
       " 'also',\n",
       " 'alsonodrinkcartcomingaround',\n",
       " 'alstdi',\n",
       " 'alt',\n",
       " 'alternate',\n",
       " 'alternative',\n",
       " 'alternatively',\n",
       " 'although',\n",
       " 'altitude',\n",
       " 'altonbrownlive',\n",
       " 'always',\n",
       " 'alwaysdelayed',\n",
       " 'alwayshappensthere',\n",
       " 'alwayslate',\n",
       " 'alynewton',\n",
       " 'am',\n",
       " 'amagrino',\n",
       " 'amarillo',\n",
       " 'amateur',\n",
       " 'amateurish',\n",
       " 'amaze',\n",
       " 'amazing',\n",
       " 'amazingly',\n",
       " 'amazings',\n",
       " 'amazon',\n",
       " 'ambivalence',\n",
       " 'amen',\n",
       " 'amenity',\n",
       " 'america',\n",
       " 'american',\n",
       " 'americanair',\n",
       " 'americanairbr',\n",
       " 'americanairlines',\n",
       " 'americanairlnes',\n",
       " 'americanairsucks',\n",
       " 'americanforlife',\n",
       " 'americanone',\n",
       " 'americant',\n",
       " 'americanview',\n",
       " 'amex',\n",
       " 'amin_aur',\n",
       " 'amirite',\n",
       " 'amm',\n",
       " 'among',\n",
       " 'amongst',\n",
       " 'amount',\n",
       " 'amp',\n",
       " 'ams',\n",
       " 'amsterdam',\n",
       " 'amt',\n",
       " 'amy',\n",
       " 'amybruni',\n",
       " 'amypoehler',\n",
       " 'an',\n",
       " 'ana',\n",
       " 'analystdoc',\n",
       " 'analysts',\n",
       " 'analytics',\n",
       " 'anamarketers',\n",
       " 'anaphylaxis',\n",
       " 'anarchy',\n",
       " 'anchorage',\n",
       " 'andchexmix',\n",
       " 'anderson',\n",
       " 'andrew',\n",
       " 'andrew_wasila',\n",
       " 'andrewbiga',\n",
       " 'andrewfallis',\n",
       " 'andrews',\n",
       " 'android',\n",
       " 'andthewinneris',\n",
       " 'andyellwood',\n",
       " 'angel',\n",
       " 'angeles',\n",
       " 'angle',\n",
       " 'angriest',\n",
       " 'angry',\n",
       " 'angryandsober',\n",
       " 'angrybird',\n",
       " 'angrycustomer',\n",
       " 'angrytraveler',\n",
       " 'angst',\n",
       " 'anhour',\n",
       " 'animal',\n",
       " 'anku',\n",
       " 'ann',\n",
       " 'anna',\n",
       " 'annebevi',\n",
       " 'annettenaif',\n",
       " 'anni',\n",
       " 'anniversary',\n",
       " 'annnndddd',\n",
       " 'annnnddddd',\n",
       " 'annnnnd',\n",
       " 'announce',\n",
       " 'announced',\n",
       " 'announcement',\n",
       " 'announces',\n",
       " 'annoy',\n",
       " 'annoyed',\n",
       " 'annricord',\n",
       " 'annual',\n",
       " 'another',\n",
       " 'answer',\n",
       " 'answering',\n",
       " 'answerphone',\n",
       " 'answerthephone',\n",
       " 'answerthis',\n",
       " 'ant_kneee',\n",
       " 'anthony',\n",
       " 'anti',\n",
       " 'anticipate',\n",
       " 'anticipation',\n",
       " 'antigua',\n",
       " 'antitrust',\n",
       " 'antonio',\n",
       " 'anxiety',\n",
       " 'anxious',\n",
       " 'any',\n",
       " 'anybody',\n",
       " 'anyhelp',\n",
       " 'anymore',\n",
       " 'anyone',\n",
       " 'anyonethere',\n",
       " 'anything',\n",
       " 'anytime',\n",
       " 'anyway',\n",
       " 'anywhere',\n",
       " 'apart',\n",
       " 'apathetic',\n",
       " 'apathy',\n",
       " 'apeared',\n",
       " 'apnea',\n",
       " 'apollochplayers',\n",
       " 'apologise',\n",
       " 'apologize',\n",
       " 'apologizes',\n",
       " 'apology',\n",
       " 'apostrophe',\n",
       " 'apostrophefail',\n",
       " 'app',\n",
       " 'appal',\n",
       " 'appalled',\n",
       " 'appalling',\n",
       " 'apparent',\n",
       " 'apparently',\n",
       " 'appeal',\n",
       " 'appear',\n",
       " 'appears',\n",
       " 'appease',\n",
       " 'applaud',\n",
       " 'applause',\n",
       " 'apple',\n",
       " 'applepay',\n",
       " 'appleton',\n",
       " 'applicable',\n",
       " 'application',\n",
       " 'applied',\n",
       " 'applies',\n",
       " 'apply',\n",
       " 'appoint',\n",
       " 'appointment',\n",
       " 'appreciate',\n",
       " 'appreciated',\n",
       " 'appreciates',\n",
       " 'appreciation',\n",
       " 'approach',\n",
       " 'appropriate',\n",
       " 'appropriately',\n",
       " 'appropriation',\n",
       " 'approval',\n",
       " 'approve',\n",
       " 'approx',\n",
       " 'approximate',\n",
       " 'approximately',\n",
       " 'apps',\n",
       " 'appt',\n",
       " 'april',\n",
       " 'apron',\n",
       " 'apt',\n",
       " 'apx',\n",
       " 'aquadilla',\n",
       " 'arab',\n",
       " 'arbitrarily',\n",
       " 'arbitrary',\n",
       " 'arc',\n",
       " 'ardent',\n",
       " 'are',\n",
       " 'area',\n",
       " 'arent',\n",
       " 'areyounew',\n",
       " 'argentina',\n",
       " 'argg',\n",
       " 'argh',\n",
       " 'argue',\n",
       " 'argument',\n",
       " 'arizona',\n",
       " 'arkansas',\n",
       " 'arm',\n",
       " 'arminrosen',\n",
       " 'armrest',\n",
       " 'arms',\n",
       " 'army',\n",
       " 'arose',\n",
       " 'around',\n",
       " 'arrange',\n",
       " 'arrangement',\n",
       " 'arrival',\n",
       " 'arrive',\n",
       " 'arrived',\n",
       " 'arrives',\n",
       " 'arriving',\n",
       " 'arrogant',\n",
       " 'art',\n",
       " 'article',\n",
       " 'artisanal',\n",
       " 'aruba',\n",
       " 'aruba_airport',\n",
       " 'aruna',\n",
       " 'as',\n",
       " 'asap',\n",
       " 'ase',\n",
       " 'ash',\n",
       " 'asha',\n",
       " 'ashamed',\n",
       " 'ashley',\n",
       " 'ashleykatherton',\n",
       " 'asia',\n",
       " 'aside',\n",
       " 'ask',\n",
       " 'asked',\n",
       " 'asking',\n",
       " 'askpaypal',\n",
       " 'asks',\n",
       " 'asleep',\n",
       " 'aspen',\n",
       " 'ass',\n",
       " 'assault',\n",
       " 'asset',\n",
       " 'asshole',\n",
       " 'assign',\n",
       " 'assigned',\n",
       " 'assignment',\n",
       " 'assist',\n",
       " 'assistance',\n",
       " 'assistant',\n",
       " 'associate',\n",
       " 'assult',\n",
       " 'assume',\n",
       " 'assumed',\n",
       " 'assurance',\n",
       " 'assure',\n",
       " 'assured',\n",
       " 'astound',\n",
       " 'astounds',\n",
       " 'at',\n",
       " 'atc',\n",
       " 'atct',\n",
       " 'ath',\n",
       " 'athlete',\n",
       " 'atl',\n",
       " 'atlanta',\n",
       " 'atlantic',\n",
       " 'atleast',\n",
       " 'atrocious',\n",
       " 'att',\n",
       " 'attach',\n",
       " 'attain',\n",
       " 'attdt',\n",
       " 'attempt',\n",
       " 'attempted',\n",
       " 'attempting',\n",
       " 'attend',\n",
       " 'attendant',\n",
       " 'attendants',\n",
       " 'attendee',\n",
       " 'attendents',\n",
       " 'attention',\n",
       " 'attentiveness',\n",
       " 'attitude',\n",
       " 'attitudeissues',\n",
       " 'attndt',\n",
       " 'atwonline',\n",
       " 'auciello',\n",
       " 'auckland',\n",
       " 'auction',\n",
       " 'audience',\n",
       " 'audition',\n",
       " 'auditorium',\n",
       " 'auf',\n",
       " 'aug',\n",
       " 'august',\n",
       " 'auh',\n",
       " 'aunt',\n",
       " 'aunty',\n",
       " 'aus',\n",
       " 'austic',\n",
       " 'austin',\n",
       " 'austinairport',\n",
       " 'australia',\n",
       " 'austrian',\n",
       " 'author',\n",
       " 'authoritative',\n",
       " 'authority',\n",
       " 'authorize',\n",
       " 'auto',\n",
       " 'automate',\n",
       " 'automatically',\n",
       " 'automobile',\n",
       " 'autoresponse',\n",
       " 'av_duffy',\n",
       " 'avail',\n",
       " 'availability',\n",
       " 'available',\n",
       " 'avatar',\n",
       " 'avenue',\n",
       " 'average',\n",
       " 'avert',\n",
       " 'avgeek',\n",
       " 'aviation',\n",
       " 'avios',\n",
       " 'avis',\n",
       " 'aviv',\n",
       " 'avoid',\n",
       " 'avon',\n",
       " 'avp',\n",
       " 'await',\n",
       " 'awaiting',\n",
       " 'awake',\n",
       " 'award',\n",
       " 'aware',\n",
       " 'away',\n",
       " 'awe',\n",
       " 'aweful',\n",
       " 'awesome',\n",
       " 'awesomeee',\n",
       " 'awesomeness',\n",
       " 'awful',\n",
       " 'awfulness',\n",
       " 'awheelchair',\n",
       " 'awhile',\n",
       " 'awkward',\n",
       " 'awrd',\n",
       " 'aww',\n",
       " 'awww',\n",
       " 'awwweesssooomee',\n",
       " 'ayyy',\n",
       " 'ba_usa',\n",
       " 'baby',\n",
       " 'bach',\n",
       " 'bachelorpartymishap',\n",
       " 'back',\n",
       " 'backing',\n",
       " 'backlog',\n",
       " 'backpack',\n",
       " 'backroads',\n",
       " 'backup',\n",
       " 'backwards',\n",
       " 'bad',\n",
       " 'badbadbad',\n",
       " 'badbusiness',\n",
       " 'badbussiness',\n",
       " 'badcustomerservice',\n",
       " 'badcustomersrvice',\n",
       " 'bademployeeproblem',\n",
       " 'badge',\n",
       " 'badges',\n",
       " 'badly',\n",
       " 'badmgmt',\n",
       " 'badpolicy',\n",
       " 'badservice',\n",
       " 'badwebsite',\n",
       " 'bae',\n",
       " 'baejet',\n",
       " 'bafore',\n",
       " 'baftz',\n",
       " 'bag',\n",
       " 'bagage',\n",
       " 'bagawim',\n",
       " 'baggage',\n",
       " 'baggagelost',\n",
       " 'bags',\n",
       " 'bahamas',\n",
       " 'bail',\n",
       " 'bailey',\n",
       " 'bait',\n",
       " 'baitandswitch',\n",
       " 'bake',\n",
       " 'baking',\n",
       " 'balance',\n",
       " 'baldordash',\n",
       " 'baldwin',\n",
       " 'ball',\n",
       " 'ballin',\n",
       " 'balls',\n",
       " 'baltimore',\n",
       " 'ban',\n",
       " 'banana',\n",
       " 'band',\n",
       " 'bandie',\n",
       " 'bandwidth',\n",
       " 'bangkok',\n",
       " 'bank',\n",
       " 'bankrupt',\n",
       " 'bankruptcy',\n",
       " 'bar',\n",
       " 'barbados',\n",
       " 'barbara',\n",
       " 'barclay',\n",
       " 'barclaycardus',\n",
       " 'barclays',\n",
       " 'barcodes',\n",
       " 'barely',\n",
       " 'barking',\n",
       " 'barklays',\n",
       " 'barnum',\n",
       " 'barrel',\n",
       " 'barrettkarabis',\n",
       " 'barrier',\n",
       " 'bars',\n",
       " 'barzegar',\n",
       " 'base',\n",
       " 'bashing',\n",
       " 'basic',\n",
       " 'basically',\n",
       " 'basket',\n",
       " 'basketball',\n",
       " 'bass',\n",
       " 'bastard',\n",
       " 'bathroom',\n",
       " 'batman',\n",
       " 'battery',\n",
       " 'battierccipuppy',\n",
       " 'batting',\n",
       " 'battle',\n",
       " 'battles',\n",
       " 'battling',\n",
       " 'bay',\n",
       " 'bbb_media',\n",
       " 'bday',\n",
       " 'bdl',\n",
       " 'be',\n",
       " 'beach',\n",
       " 'beanie',\n",
       " 'beantownmatty',\n",
       " 'beat',\n",
       " 'beating',\n",
       " 'beautiful',\n",
       " 'beauty',\n",
       " 'become',\n",
       " 'bed',\n",
       " 'beer',\n",
       " 'beg',\n",
       " 'begin',\n",
       " 'behalf',\n",
       " 'behavior',\n",
       " 'behind',\n",
       " 'belfast',\n",
       " 'believe',\n",
       " 'belize',\n",
       " 'bellagio',\n",
       " 'belong',\n",
       " 'belonging',\n",
       " 'belt',\n",
       " 'benefit',\n",
       " 'bereavement',\n",
       " 'bergstrom',\n",
       " 'besides',\n",
       " 'best',\n",
       " 'bestairline',\n",
       " 'bestairlineever',\n",
       " 'bestemployees',\n",
       " 'bestflightever',\n",
       " 'besty',\n",
       " 'bet',\n",
       " 'betsy',\n",
       " 'better',\n",
       " 'beverage',\n",
       " 'beware',\n",
       " 'beyond',\n",
       " 'bff',\n",
       " 'bgm',\n",
       " 'bgr',\n",
       " 'bhm',\n",
       " 'bicycle',\n",
       " 'big',\n",
       " 'biggest',\n",
       " 'bike',\n",
       " 'bill',\n",
       " 'billing',\n",
       " 'billion',\n",
       " 'bin',\n",
       " 'bio',\n",
       " 'bird',\n",
       " 'birmingham',\n",
       " 'birth',\n",
       " 'birthday',\n",
       " 'bit',\n",
       " 'bitch',\n",
       " 'biz',\n",
       " 'black',\n",
       " 'blackhistorymonth',\n",
       " 'blah',\n",
       " 'blame',\n",
       " 'blank',\n",
       " 'blanket',\n",
       " 'blast',\n",
       " 'blasting',\n",
       " 'blatant',\n",
       " 'bless',\n",
       " 'blew',\n",
       " 'blizzard',\n",
       " 'block',\n",
       " 'blog',\n",
       " 'bloody',\n",
       " 'blow',\n",
       " 'blowing',\n",
       " 'blown',\n",
       " 'blue',\n",
       " 'bluecarpet',\n",
       " 'bluemanity',\n",
       " 'bna',\n",
       " 'board',\n",
       " 'boarded',\n",
       " 'boarding',\n",
       " 'boat',\n",
       " 'boeing',\n",
       " 'boeingairplanes',\n",
       " 'bogota',\n",
       " 'boise',\n",
       " 'bold',\n",
       " 'bom',\n",
       " 'bonus',\n",
       " 'boo',\n",
       " 'book',\n",
       " 'booked',\n",
       " 'booking',\n",
       " 'boom',\n",
       " 'boot',\n",
       " 'booze',\n",
       " 'bora',\n",
       " 'border',\n",
       " 'bos',\n",
       " 'boston',\n",
       " 'bostonlogan',\n",
       " 'bot',\n",
       " 'bother',\n",
       " 'bottle',\n",
       " 'bottom',\n",
       " 'bought',\n",
       " 'bougth',\n",
       " 'bounce',\n",
       " 'bound',\n",
       " 'bout',\n",
       " 'box',\n",
       " 'boy',\n",
       " 'boyfriend',\n",
       " 'bqn',\n",
       " 'brag',\n",
       " 'brain',\n",
       " 'brand',\n",
       " 'brandloveaffair',\n",
       " 'brandmance',\n",
       " 'brandssayingbae',\n",
       " 'brave',\n",
       " 'brazil',\n",
       " 'breach',\n",
       " 'break',\n",
       " 'breakdown',\n",
       " 'breakfast',\n",
       " 'breath',\n",
       " 'bretharold',\n",
       " 'brian',\n",
       " 'bridge',\n",
       " 'bright',\n",
       " 'brilliant',\n",
       " 'bring',\n",
       " 'british_airways',\n",
       " 'bro',\n",
       " 'broke',\n",
       " 'broken',\n",
       " 'brokenpromises',\n",
       " 'brother',\n",
       " 'brothers',\n",
       " 'brought',\n",
       " 'browser',\n",
       " 'bruh',\n",
       " 'brushing',\n",
       " 'brutal',\n",
       " 'btr',\n",
       " 'bttr',\n",
       " 'btv',\n",
       " 'btw',\n",
       " 'buck',\n",
       " 'bucket',\n",
       " 'buddy',\n",
       " 'budget',\n",
       " 'buenos',\n",
       " 'buf',\n",
       " 'buffalo',\n",
       " 'bug',\n",
       " 'bull',\n",
       " 'bullshit',\n",
       " 'bum',\n",
       " 'bummer',\n",
       " 'bump',\n",
       " 'bumped',\n",
       " 'bumper',\n",
       " 'bumping',\n",
       " 'bunch',\n",
       " 'burbank',\n",
       " 'bureau',\n",
       " 'burger',\n",
       " 'burgundy',\n",
       " 'burlington',\n",
       " 'burn',\n",
       " 'burned',\n",
       " 'burning',\n",
       " 'burningman',\n",
       " 'burrito',\n",
       " 'burroughs',\n",
       " 'bus',\n",
       " 'busads',\n",
       " 'bush',\n",
       " 'bushug',\n",
       " 'busiest',\n",
       " 'business',\n",
       " 'businessfirst',\n",
       " 'businessmodel',\n",
       " 'businesstravel',\n",
       " 'bussey',\n",
       " 'bust',\n",
       " 'busy',\n",
       " 'but',\n",
       " 'butnot',\n",
       " 'butt',\n",
       " 'button',\n",
       " 'buy',\n",
       " 'buyback',\n",
       " 'buyer',\n",
       " 'buying',\n",
       " 'buzz',\n",
       " 'bwahahaha',\n",
       " 'bwi',\n",
       " 'bwi_airport',\n",
       " 'bwood',\n",
       " 'bye',\n",
       " 'byebyejetblue',\n",
       " 'byod',\n",
       " 'bze',\n",
       " 'c_istudios',\n",
       " 'cab',\n",
       " 'cabcelled',\n",
       " 'cabin',\n",
       " 'cabine',\n",
       " 'cable',\n",
       " 'cabo',\n",
       " 'cac',\n",
       " 'cache',\n",
       " 'cae',\n",
       " 'caexhibitions',\n",
       " 'cafe',\n",
       " 'caffeine',\n",
       " 'cakairport',\n",
       " 'cake',\n",
       " 'cakendeath',\n",
       " 'cal',\n",
       " 'calderon',\n",
       " 'calendar',\n",
       " 'calgary',\n",
       " 'cali',\n",
       " 'calibrate',\n",
       " 'california',\n",
       " 'call',\n",
       " 'callback',\n",
       " 'callbacks',\n",
       " 'called',\n",
       " 'caller',\n",
       " 'calling',\n",
       " 'calls',\n",
       " 'calm',\n",
       " 'came',\n",
       " 'camera',\n",
       " 'cameragear',\n",
       " 'cameron__roe',\n",
       " 'camp',\n",
       " 'campaign',\n",
       " 'campus',\n",
       " 'can',\n",
       " 'cana',\n",
       " 'canada',\n",
       " 'canadaair',\n",
       " 'canadian',\n",
       " 'canadians',\n",
       " 'cancelled',\n",
       " 'cancer',\n",
       " 'cancld',\n",
       " 'cancun',\n",
       " 'candace',\n",
       " 'candice',\n",
       " 'candy',\n",
       " 'canister',\n",
       " 'canld',\n",
       " 'cannedtweet',\n",
       " 'cant',\n",
       " 'cantblametheweather',\n",
       " 'canthurtasking',\n",
       " 'canx',\n",
       " 'capa_aviation',\n",
       " 'capable',\n",
       " 'capacity',\n",
       " 'capeair',\n",
       " 'capital',\n",
       " 'capitalize',\n",
       " 'capt',\n",
       " 'captain',\n",
       " 'captive',\n",
       " 'captiveaudience',\n",
       " 'capture',\n",
       " 'car',\n",
       " 'caravannyc',\n",
       " 'card',\n",
       " 'care',\n",
       " 'career',\n",
       " 'careless',\n",
       " 'careyon',\n",
       " 'cargo',\n",
       " 'caribbean',\n",
       " 'caribbejan',\n",
       " 'carol',\n",
       " 'carolina',\n",
       " 'carousel',\n",
       " 'carpet',\n",
       " 'carrie',\n",
       " 'carrier',\n",
       " 'carrieunderwood',\n",
       " 'carry',\n",
       " 'carryon',\n",
       " 'carryons',\n",
       " 'carseat',\n",
       " 'cart',\n",
       " 'cartagena',\n",
       " ...]"
      ]
     },
     "execution_count": 32,
     "metadata": {
      "tags": []
     },
     "output_type": "execute_result"
    }
   ],
   "source": [
    "count_vec.get_feature_names()"
   ]
  },
  {
   "cell_type": "code",
   "execution_count": 33,
   "metadata": {
    "colab": {
     "base_uri": "https://localhost:8080/",
     "height": 51
    },
    "colab_type": "code",
    "id": "EXEtU9gSs65d",
    "outputId": "549d39f9-18dc-47a3-ce6c-1dd3a8cafe6f"
   },
   "outputs": [
    {
     "data": {
      "text/plain": [
       "<3660x7000 sparse matrix of type '<class 'numpy.int64'>'\n",
       "\twith 31485 stored elements in Compressed Sparse Row format>"
      ]
     },
     "execution_count": 33,
     "metadata": {
      "tags": []
     },
     "output_type": "execute_result"
    }
   ],
   "source": [
    "x_test_features = count_vec.transform(test_text_documents)\n",
    "x_test_features"
   ]
  },
  {
   "cell_type": "code",
   "execution_count": 0,
   "metadata": {
    "colab": {},
    "colab_type": "code",
    "id": "cmin5Ij4s65i"
   },
   "outputs": [],
   "source": []
  },
  {
   "cell_type": "code",
   "execution_count": 0,
   "metadata": {
    "colab": {},
    "colab_type": "code",
    "id": "_fNnT79Es65n"
   },
   "outputs": [],
   "source": [
    "xtrain=x_train_features\n",
    "ytrain=categories\n",
    "xtest=x_test_features\n",
    "#ytest=y_test"
   ]
  },
  {
   "cell_type": "code",
   "execution_count": 0,
   "metadata": {
    "colab": {},
    "colab_type": "code",
    "id": "MJiTs7DEs65s"
   },
   "outputs": [],
   "source": [
    "import numpy as np"
   ]
  },
  {
   "cell_type": "code",
   "execution_count": 0,
   "metadata": {
    "colab": {},
    "colab_type": "code",
    "id": "xzD-mPyrs65v"
   },
   "outputs": [],
   "source": [
    "from sklearn.svm import SVC\n",
    "svc = SVC(C=0.2,kernel='linear')\n",
    "svc.fit(xtrain, ytrain)\n",
    "#svc.score(xtest, ytest)\n",
    "svc=svc.predict(xtest)\n",
    "svc=np.array(svc)\n",
    "np.savetxt(\"svc(nlp2).csv\",svc, fmt='%s',encoding=None)\n",
    "files.download(\"svc(nlp2).csv\")"
   ]
  },
  {
   "cell_type": "code",
   "execution_count": 0,
   "metadata": {
    "colab": {},
    "colab_type": "code",
    "id": "pOYaeDyBs65z"
   },
   "outputs": [],
   "source": []
  },
  {
   "cell_type": "code",
   "execution_count": 0,
   "metadata": {
    "colab": {},
    "colab_type": "code",
    "id": "doQtIC0Fs655"
   },
   "outputs": [],
   "source": [
    "#GAUSSIAN NAIVE BAYES SCORE TEST\n",
    "from sklearn.naive_bayes import GaussianNB\n",
    "gnb = GaussianNB()\n",
    "#y_pred = gnb.fit(xtrain, ytrain).predict(iris.data)\n",
    "#y_pred = gnb.fit(xtrain.toarray(), ytrain)\n",
    "#gnb.score(xtest.toarray(),ytest)"
   ]
  },
  {
   "cell_type": "code",
   "execution_count": 0,
   "metadata": {
    "colab": {},
    "colab_type": "code",
    "id": "ygrj7e1N1USm"
   },
   "outputs": [],
   "source": [
    "#MULTINOMIAL NAIVE BAYES SCORE TEST\n",
    "\n",
    "from sklearn.naive_bayes import MultinomialNB\n",
    "clf = MultinomialNB(alpha=0.83)\n",
    "clf.fit(xtrain.toarray(), ytrain)\n",
    "\n",
    "mnb=clf.predict(xtest)\n",
    "mnb=np.array(mnb)\n",
    "\n",
    "#np.savetxt(\"mnb(nlp2).csv\",mnb, fmt='%s',encoding=None)\n",
    "#files.download(\"mnb(nlp2).csv\")"
   ]
  },
  {
   "cell_type": "code",
   "execution_count": 0,
   "metadata": {
    "colab": {},
    "colab_type": "code",
    "id": "GtSVCyOxs65-"
   },
   "outputs": [],
   "source": [
    "#classfier = NaiveBayesClassifier.train(xtrain)"
   ]
  },
  {
   "cell_type": "code",
   "execution_count": 0,
   "metadata": {
    "colab": {},
    "colab_type": "code",
    "id": "6GVXd2vDs66F"
   },
   "outputs": [],
   "source": [
    "#naive=classfier.classify_many(ytest)\n",
    "#naive=np.array(naive)\n",
    "#nltk.classify.accuracy(classfier, ytest)\n",
    "#os.chdir(\"C:\\\\Users\\\\hp\\\\Desktop\")\n",
    "#np.savetxt(\"naive1.csv\",naive, fmt='%s',encoding=None)"
   ]
  }
 ],
 "metadata": {
  "accelerator": "GPU",
  "colab": {
   "name": "Copy of Movie-Reviews-SKLearn-CountVectorizer3(FINAL).ipynb",
   "provenance": [],
   "version": "0.3.2"
  },
  "kernelspec": {
   "display_name": "Python 3",
   "language": "python",
   "name": "python3"
  },
  "language_info": {
   "codemirror_mode": {
    "name": "ipython",
    "version": 3
   },
   "file_extension": ".py",
   "mimetype": "text/x-python",
   "name": "python",
   "nbconvert_exporter": "python",
   "pygments_lexer": "ipython3",
   "version": "3.6.5"
  }
 },
 "nbformat": 4,
 "nbformat_minor": 1
}
